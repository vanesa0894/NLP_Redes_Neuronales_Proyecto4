{
 "cells": [
  {
   "cell_type": "markdown",
   "id": "dd0a5839-baa2-485a-be3b-a8513da25917",
   "metadata": {},
   "source": [
    "# Proyecto 4: Procesamiento del Lenguaje Natural. \n",
    "\n",
    "# Informe final de la Carrera"
   ]
  },
  {
   "cell_type": "markdown",
   "id": "c5494a81-3904-4cbc-b0bc-fbc747c51fd1",
   "metadata": {},
   "source": [
    "Por Vanesa Flores. Link en [GitHub](https://github.com/vanesa0894/NLP_Redes_Neuronales_Proyecto4)."
   ]
  },
  {
   "cell_type": "markdown",
   "id": "8a39d21f-9223-4968-8586-13efa91b67b9",
   "metadata": {},
   "source": [
    "El presente informe está desarrollado en base a lo obtenido en el Proyecto 3, el cual puede ser visto [aquí](https://github.com/vanesa0894/Procesamiento_del_Lenguaje_Natural_NLP_Proyecto3). En dicho proyecto se muestra de forma ordenada el Análisis Exploratorio de los datos, el proceso de normalización y limpieza de los mismos, y por último el entrenamiento de distintos modelos de aprendizaje automático en búsqueda de los mejores resultados para clasificación de texto de múltiples clases y clasificación binaria.\n",
    "\n",
    "## Objetivo\n",
    "\n",
    "Implementar alguna nueva metodología que permita complementar o mejorar el problema de asignar la cantidad de estrellas correspondientes a la crítica de un producto generada por un usuario, partiendo de lo desarrollado en el proyecto anterior. \n",
    "\n",
    "## Planteamiento\n",
    "\n",
    "Basándonos en el objetivo, se plantea aplicar herramientas del aprendizaje profundo con el fin de optimizar la predicción de las estrellas asiganadas a un comentario. Se trabajará con redes neuronales artificiales, tanto para el problema de clasificación de texto para múltiples clases (1-5 estrellas) como para el problema binario planteado al final del proyecto 3 (positiva-negativa). \n",
    "\n",
    "## Recursos"
   ]
  },
  {
   "cell_type": "markdown",
   "id": "12be0c23-579f-432b-8efe-af006c59d3af",
   "metadata": {},
   "source": [
    "### Dataset Original: The Multilingual Amazon Reviews Corpus\n",
    "\n",
    "Como complemento, dejamos a su disposición dónde puede encontrar el dataset original [aquí](https://github.com/kang205/SASRec) y su [licencia](https://docs.opendata.aws/amazon-reviews-ml/license.txt).\n",
    "\n",
    "Este conjunto de datos contiene comentarios en español, recopiladas entre el 1 de noviembre de 2015 y el 1 de noviembre de 2019. Y además, presenta las siguientes características:\n",
    "\n",
    "- `review_id`: ID del comentario.\n",
    "- `product_id`: ID del producto.\n",
    "- `reviewer_id`: ID de un revisor.\n",
    "- `stars`: número de estrellas asignadas al comentario.\n",
    "- `review_body`: texto del comentario.\n",
    "- `review_title`: título del comentario.\n",
    "- `language`: idioma del comentario.\n",
    "- `product_category`: categoría general del producto."
   ]
  },
  {
   "cell_type": "markdown",
   "id": "5543ef75-4f92-4dc2-b627-55be11745bae",
   "metadata": {},
   "source": [
    "### Dataset Normalizado\n",
    "\n",
    "Utilizaremos en el desarrollo de este informe, un dataset generado en el proyecto anterior, el cual ya está normalizado y limpio. Lo puedes encontrar [aquí](https://drive.google.com/drive/folders/1jwfhyozoOFDtoIm5tPDli-YWjrshcliV?usp=sharing). Sus características:\n",
    "\n",
    "- `stars`: número de estrellas asignadas al comentario.\n",
    "- `total_review`: representa el texto concatenado de las atributos `review_body` y `review_title`.\n",
    "- `review_tokens`: tokens generados a partir de total_review.\n",
    "- `reviews_stemm`: stems generados a través del algoritmo de Snowball de la librería `NLKT`.\n",
    "- `reviews_lemma`: lemmas generados con la librería `Stanza` para texto en español. "
   ]
  },
  {
   "cell_type": "markdown",
   "id": "02cdc019-5830-4e09-9f55-dc735d20c55d",
   "metadata": {},
   "source": [
    "### Nuevas librerías: TensorFlow y Keras\n",
    "\n",
    "Se trabajará con dos nuevas librerías, `TensorFlow` y `Keras`. Éstas nos permiten trabajar con herramientas de apredizaje profundo de una forma amigable y con gran rapidez. Principalmente, importaremos TensorFlow y trabajaremos con la API de Keras de ésta librería. Su documentación la puedes encontrar [aquí](https://www.tensorflow.org/guide/keras?hl=es-419).\n"
   ]
  },
  {
   "cell_type": "markdown",
   "id": "80966d53-52cf-4863-bdc6-836c82045f26",
   "metadata": {},
   "source": [
    "### Librerías Útiles"
   ]
  },
  {
   "cell_type": "code",
   "execution_count": 1,
   "id": "d65618c9-7897-4637-bd9c-9cd86025d83b",
   "metadata": {},
   "outputs": [],
   "source": [
    "import gc\n",
    "\n",
    "import numpy as np\n",
    "from numpy.random import seed\n",
    "\n",
    "import pandas as pd\n",
    "\n",
    "import matplotlib.pyplot as plt\n",
    "import seaborn as sns\n",
    "sns.set()\n",
    "\n",
    "from sklearn.feature_extraction.text import TfidfVectorizer\n",
    "from sklearn.model_selection import train_test_split\n",
    "from sklearn.linear_model import LogisticRegression\n",
    "from sklearn.metrics import accuracy_score\n",
    "from sklearn.metrics import confusion_matrix\n",
    "\n",
    "\n",
    "import tensorflow as tf\n",
    "from tensorflow.keras import layers\n",
    "from tensorflow.keras import losses\n",
    "from tensorflow.keras import preprocessing\n",
    "from keras.models import Sequential\n",
    "from plot_keras_history import plot_history\n",
    "from keras.regularizers import l2\n",
    "from keras.backend import clear_session"
   ]
  },
  {
   "cell_type": "markdown",
   "id": "b18979f7-01a2-4669-bb5b-b3c98adafc58",
   "metadata": {},
   "source": [
    "Defino una semilla para obtener resultados reproducibles. [Ref](https://machinelearningmastery.com/reproducible-results-neural-networks-keras/)"
   ]
  },
  {
   "cell_type": "code",
   "execution_count": 2,
   "id": "382213f9-0248-4aee-8818-a4339e67f8c2",
   "metadata": {},
   "outputs": [],
   "source": [
    "my_seed = 42\n",
    "seed(my_seed)\n",
    "tf.random.set_seed(my_seed)"
   ]
  },
  {
   "cell_type": "markdown",
   "id": "8a4af53a-be3a-4194-a24d-4f7839bd8842",
   "metadata": {},
   "source": [
    "# Carga de datos"
   ]
  },
  {
   "cell_type": "markdown",
   "id": "26094037-4ead-4f50-bf20-826bf862a5ba",
   "metadata": {},
   "source": [
    "Cargamos el dataset normalizado:"
   ]
  },
  {
   "cell_type": "code",
   "execution_count": 3,
   "id": "48b4a7bc-12ae-4507-a035-0bb7831df7ea",
   "metadata": {},
   "outputs": [
    {
     "data": {
      "text/html": [
       "<div>\n",
       "<style scoped>\n",
       "    .dataframe tbody tr th:only-of-type {\n",
       "        vertical-align: middle;\n",
       "    }\n",
       "\n",
       "    .dataframe tbody tr th {\n",
       "        vertical-align: top;\n",
       "    }\n",
       "\n",
       "    .dataframe thead th {\n",
       "        text-align: right;\n",
       "    }\n",
       "</style>\n",
       "<table border=\"1\" class=\"dataframe\">\n",
       "  <thead>\n",
       "    <tr style=\"text-align: right;\">\n",
       "      <th></th>\n",
       "      <th>Unnamed: 0</th>\n",
       "      <th>stars</th>\n",
       "      <th>total_review</th>\n",
       "      <th>review_tokens</th>\n",
       "      <th>reviews_stemm</th>\n",
       "      <th>review_tokens_unidos</th>\n",
       "      <th>reviews_lemma</th>\n",
       "    </tr>\n",
       "  </thead>\n",
       "  <tbody>\n",
       "    <tr>\n",
       "      <th>0</th>\n",
       "      <td>0</td>\n",
       "      <td>1</td>\n",
       "      <td>nada bueno se me fue ka pantalla en menos de 8...</td>\n",
       "      <td>['nada', 'bueno', 'pantalla', 'menos', 'recibi...</td>\n",
       "      <td>nad buen pantall men recib respuest fabric tel...</td>\n",
       "      <td>nada bueno pantalla menos recibido respuesta f...</td>\n",
       "      <td>nada buen pantalla menos recibido respuesta fa...</td>\n",
       "    </tr>\n",
       "    <tr>\n",
       "      <th>1</th>\n",
       "      <td>1</td>\n",
       "      <td>1</td>\n",
       "      <td>horrible, nos tuvimos que comprar otro porque ...</td>\n",
       "      <td>['horrible', 'comprar', 'sabemos', 'ingles', '...</td>\n",
       "      <td>horribl compr sab ingles informat despu hor ca...</td>\n",
       "      <td>horrible comprar sabemos ingles informatico de...</td>\n",
       "      <td>horrible comprar saber ingle informatico despu...</td>\n",
       "    </tr>\n",
       "    <tr>\n",
       "      <th>2</th>\n",
       "      <td>2</td>\n",
       "      <td>1</td>\n",
       "      <td>te obligan a comprar dos unidades y te llega s...</td>\n",
       "      <td>['obligan', 'comprar', 'unidades', 'llega', 's...</td>\n",
       "      <td>oblig compr unidad lleg sol form reclam autent...</td>\n",
       "      <td>obligan comprar unidades llega solo forma recl...</td>\n",
       "      <td>obligar comprar unidad llegar solo forma recla...</td>\n",
       "    </tr>\n",
       "    <tr>\n",
       "      <th>3</th>\n",
       "      <td>3</td>\n",
       "      <td>1</td>\n",
       "      <td>no entro en descalificar al vendedor, solo pue...</td>\n",
       "      <td>['entro', 'descalificar', 'vendedor', 'solo', ...</td>\n",
       "      <td>entro descalific vendedor sol pued dec tras es...</td>\n",
       "      <td>entro descalificar vendedor solo puedo decir t...</td>\n",
       "      <td>entrar descalificar vendedor solo poder decir ...</td>\n",
       "    </tr>\n",
       "    <tr>\n",
       "      <th>4</th>\n",
       "      <td>4</td>\n",
       "      <td>1</td>\n",
       "      <td>llega tarde y co la talla equivocada devuelto</td>\n",
       "      <td>['llega', 'tarde', 'talla', 'equivocada', 'dev...</td>\n",
       "      <td>lleg tard tall equivoc devuelt</td>\n",
       "      <td>llega tarde talla equivocada devuelto</td>\n",
       "      <td>llegar tarde talla equivocado devolver</td>\n",
       "    </tr>\n",
       "  </tbody>\n",
       "</table>\n",
       "</div>"
      ],
      "text/plain": [
       "   Unnamed: 0  stars                                       total_review  \\\n",
       "0           0      1  nada bueno se me fue ka pantalla en menos de 8...   \n",
       "1           1      1  horrible, nos tuvimos que comprar otro porque ...   \n",
       "2           2      1  te obligan a comprar dos unidades y te llega s...   \n",
       "3           3      1  no entro en descalificar al vendedor, solo pue...   \n",
       "4           4      1      llega tarde y co la talla equivocada devuelto   \n",
       "\n",
       "                                       review_tokens  \\\n",
       "0  ['nada', 'bueno', 'pantalla', 'menos', 'recibi...   \n",
       "1  ['horrible', 'comprar', 'sabemos', 'ingles', '...   \n",
       "2  ['obligan', 'comprar', 'unidades', 'llega', 's...   \n",
       "3  ['entro', 'descalificar', 'vendedor', 'solo', ...   \n",
       "4  ['llega', 'tarde', 'talla', 'equivocada', 'dev...   \n",
       "\n",
       "                                       reviews_stemm  \\\n",
       "0  nad buen pantall men recib respuest fabric tel...   \n",
       "1  horribl compr sab ingles informat despu hor ca...   \n",
       "2  oblig compr unidad lleg sol form reclam autent...   \n",
       "3  entro descalific vendedor sol pued dec tras es...   \n",
       "4                     lleg tard tall equivoc devuelt   \n",
       "\n",
       "                                review_tokens_unidos  \\\n",
       "0  nada bueno pantalla menos recibido respuesta f...   \n",
       "1  horrible comprar sabemos ingles informatico de...   \n",
       "2  obligan comprar unidades llega solo forma recl...   \n",
       "3  entro descalificar vendedor solo puedo decir t...   \n",
       "4              llega tarde talla equivocada devuelto   \n",
       "\n",
       "                                       reviews_lemma  \n",
       "0  nada buen pantalla menos recibido respuesta fa...  \n",
       "1  horrible comprar saber ingle informatico despu...  \n",
       "2  obligar comprar unidad llegar solo forma recla...  \n",
       "3  entrar descalificar vendedor solo poder decir ...  \n",
       "4             llegar tarde talla equivocado devolver  "
      ]
     },
     "execution_count": 3,
     "metadata": {},
     "output_type": "execute_result"
    }
   ],
   "source": [
    "data = pd.read_csv('dataset_clean.csv')\n",
    "data.head()"
   ]
  },
  {
   "cell_type": "code",
   "execution_count": 4,
   "id": "4928d1e7-fce2-42a5-84a7-b789180ddfcb",
   "metadata": {},
   "outputs": [
    {
     "name": "stdout",
     "output_type": "stream",
     "text": [
      "Dimensión del dataset: (210000, 7)\n"
     ]
    },
    {
     "data": {
      "text/plain": [
       "Unnamed: 0              0\n",
       "stars                   0\n",
       "total_review            0\n",
       "review_tokens           0\n",
       "reviews_stemm           0\n",
       "review_tokens_unidos    0\n",
       "reviews_lemma           0\n",
       "dtype: int64"
      ]
     },
     "execution_count": 4,
     "metadata": {},
     "output_type": "execute_result"
    }
   ],
   "source": [
    "#Dimensión del dataset\n",
    "print('Dimensión del dataset:' , data.shape)\n",
    "#Valores Faltantes\n",
    "data.isna().sum()"
   ]
  },
  {
   "cell_type": "markdown",
   "id": "afc4f9a1-8cd9-47f9-a8fa-5701a6b944ef",
   "metadata": {},
   "source": [
    "Tenemos un total de 210.000 instancias sin presencia de datos faltantes. "
   ]
  },
  {
   "cell_type": "markdown",
   "id": "ce566c15-6342-459b-b1d6-e0a1f78ee698",
   "metadata": {},
   "source": [
    "### Observaciones:"
   ]
  },
  {
   "cell_type": "markdown",
   "id": "6fd8ceb9-fbfa-4416-bb6f-163818e52558",
   "metadata": {},
   "source": [
    "En lo que sigue, para realizar una comparación coherente entre los resultados obtenidos en el proyecto anterior y el actual, consideraremos lo siguiente:\n",
    "\n",
    "- Trabajar con los datos que han sido generados a través del proceso de lemmatización. Por lo que nuestra variable independiente será `reviews_lemma` y nuestra variable dependiente `stars`; nuestra variable a predecir.\n",
    "\n",
    "- Transformar nuestros datos en entidades numéricas haciendo uso de la técnica de vectorización`TF-IDF`. "
   ]
  },
  {
   "cell_type": "code",
   "execution_count": 5,
   "id": "afd170e6-636c-44e7-80de-9dcba04627ef",
   "metadata": {},
   "outputs": [
    {
     "data": {
      "text/html": [
       "<div>\n",
       "<style scoped>\n",
       "    .dataframe tbody tr th:only-of-type {\n",
       "        vertical-align: middle;\n",
       "    }\n",
       "\n",
       "    .dataframe tbody tr th {\n",
       "        vertical-align: top;\n",
       "    }\n",
       "\n",
       "    .dataframe thead th {\n",
       "        text-align: right;\n",
       "    }\n",
       "</style>\n",
       "<table border=\"1\" class=\"dataframe\">\n",
       "  <thead>\n",
       "    <tr style=\"text-align: right;\">\n",
       "      <th></th>\n",
       "      <th>stars</th>\n",
       "      <th>reviews_lemma</th>\n",
       "    </tr>\n",
       "  </thead>\n",
       "  <tbody>\n",
       "    <tr>\n",
       "      <th>0</th>\n",
       "      <td>1</td>\n",
       "      <td>nada buen pantalla menos recibido respuesta fa...</td>\n",
       "    </tr>\n",
       "    <tr>\n",
       "      <th>1</th>\n",
       "      <td>1</td>\n",
       "      <td>horrible comprar saber ingle informatico despu...</td>\n",
       "    </tr>\n",
       "    <tr>\n",
       "      <th>2</th>\n",
       "      <td>1</td>\n",
       "      <td>obligar comprar unidad llegar solo forma recla...</td>\n",
       "    </tr>\n",
       "    <tr>\n",
       "      <th>3</th>\n",
       "      <td>1</td>\n",
       "      <td>entrar descalificar vendedor solo poder decir ...</td>\n",
       "    </tr>\n",
       "    <tr>\n",
       "      <th>4</th>\n",
       "      <td>1</td>\n",
       "      <td>llegar tarde talla equivocado devolver</td>\n",
       "    </tr>\n",
       "  </tbody>\n",
       "</table>\n",
       "</div>"
      ],
      "text/plain": [
       "   stars                                      reviews_lemma\n",
       "0      1  nada buen pantalla menos recibido respuesta fa...\n",
       "1      1  horrible comprar saber ingle informatico despu...\n",
       "2      1  obligar comprar unidad llegar solo forma recla...\n",
       "3      1  entrar descalificar vendedor solo poder decir ...\n",
       "4      1             llegar tarde talla equivocado devolver"
      ]
     },
     "execution_count": 5,
     "metadata": {},
     "output_type": "execute_result"
    }
   ],
   "source": [
    "# Variables relevantes\n",
    "dataset = data[['stars','reviews_lemma']]\n",
    "dataset.head()"
   ]
  },
  {
   "cell_type": "markdown",
   "id": "6cd83adc-8a40-4e20-9e4b-5049995d594e",
   "metadata": {},
   "source": [
    "# Vectorización"
   ]
  },
  {
   "cell_type": "markdown",
   "id": "d6cb88ee-fa50-4c11-900a-cc7dbdfcb12d",
   "metadata": {},
   "source": [
    "Como ya se ha mencionado se transformarán los datos haciendo uso del módulo `TfidfVectorizer` de la librería `sklearn`. Se puede destacar también, que existe un módulo de TensorFlow que nos permite generar vectores numéricos a partir de un texto, lo puedes ver [aquí](https://www.tensorflow.org/api_docs/python/tf/keras/layers/experimental/preprocessing/TextVectorization). Sin embargo, para poder cotejar los resultados obtenidos en las dos iteraciones del proyecto, se decide utilizar el TF-IDF. "
   ]
  },
  {
   "cell_type": "markdown",
   "id": "8053c7e8-1453-4264-b5e1-fa392415a70a",
   "metadata": {},
   "source": [
    "# Métricas"
   ]
  },
  {
   "cell_type": "markdown",
   "id": "8accc18e-99df-4193-a1d9-967164e5268b",
   "metadata": {},
   "source": [
    "Para justificar el desempeño de nuestros modelos se elije como métrica el `accuracy` ya que contamos con un dataset cuyas clases están perfectamente balanceadas. Entonces, calcularemos del total de los comentarios cuántos han sido clasificados en la clase correcta, y esto nos bastará para saber si el modelo está clasificando bien o no. Utilizaremos la clase `accuracy_score` de la librería `sklearn` para calcularlo y, para visualizar la clasificación por estrellas utilizaremos la clase `confusion_matrix`. "
   ]
  },
  {
   "cell_type": "code",
   "execution_count": 6,
   "id": "f61ae632-cb67-4a39-ac95-0307611a1df8",
   "metadata": {},
   "outputs": [],
   "source": [
    "def confusion(y_test,y_pred):\n",
    "    names=['Una','Dos','Tres','Cuatro','Cinco']\n",
    "    cm=confusion_matrix(y_test,y_pred)\n",
    "    f,ax=plt.subplots(figsize=(5,5))\n",
    "    sns.heatmap(cm,annot=True,linewidth=.5,linecolor=\"r\",fmt=\".0f\",ax=ax)\n",
    "    plt.xlabel(\"y_pred\")\n",
    "    plt.ylabel(\"y_true\")\n",
    "    ax.set_xticklabels(names)\n",
    "    ax.set_yticklabels(names)\n",
    "    plt.show()\n",
    "\n",
    "    return\n",
    "\n",
    "def confusion_bin(y_test,y_pred):\n",
    "    names=['Negativo','Positivo']\n",
    "    cm=confusion_matrix(y_test,y_pred)\n",
    "    f,ax=plt.subplots(figsize=(2,2))\n",
    "    sns.heatmap(cm,annot=True,linewidth=.5,linecolor=\"r\",fmt=\".0f\",ax=ax)\n",
    "    plt.xlabel(\"y_pred\")\n",
    "    plt.ylabel(\"y_true\")\n",
    "    ax.set_xticklabels(names)\n",
    "    ax.set_yticklabels(names)\n",
    "    plt.show()\n",
    "\n",
    "    return"
   ]
  },
  {
   "cell_type": "markdown",
   "id": "99d5c3cf-93c6-40ce-8f22-12854c28334a",
   "metadata": {},
   "source": [
    "# Modelo base (benchmark)"
   ]
  },
  {
   "cell_type": "markdown",
   "id": "a98a0859-a261-409a-bef7-b09d34dc3e4b",
   "metadata": {},
   "source": [
    "Como modelo de partida, utilizaremos el modelo que nos generó mejor desempeño en el proyecto anterior. \n",
    "\n",
    "Entrenaremos un modelo de regresión logística, con los hiperparámetros obtenidos en la optimización del mismo:\n",
    "\n",
    "[ `C`= 1, `max_iter`= 1000, `multi_class`= 'multinomial', `penalty`= 'l2', `random_state`=42 ]\n",
    "\n",
    "Los parámetros para la vectorización son los que presentaron el ajuste ideal del modelo:\n",
    "\n",
    "[ `max_features`= 1000, `ngram_range` = (1,2)]"
   ]
  },
  {
   "cell_type": "code",
   "execution_count": 7,
   "id": "bc2d896c-c159-41c2-a5fc-282903dc8ce8",
   "metadata": {},
   "outputs": [
    {
     "name": "stdout",
     "output_type": "stream",
     "text": [
      "(210000, 1000)\n",
      "(210000,)\n"
     ]
    }
   ],
   "source": [
    "# Vectorización\n",
    "vectorizer = TfidfVectorizer(max_features= 1000, ngram_range = (1,2))\n",
    "X = vectorizer.fit_transform(dataset['reviews_lemma']).toarray()\n",
    "y = dataset.stars\n",
    "print(X.shape)\n",
    "print(y.shape)"
   ]
  },
  {
   "cell_type": "markdown",
   "id": "4a84e5db-54ab-4153-875c-ccc39f01352f",
   "metadata": {},
   "source": [
    "Generamos los conjuntos de entrenamiento y testeo, con una proporción de los datos del 70% y 30% respectivamente. Para ésto, se hace uso de la función `train_test_split` para tener independencia en la partición de los datos. "
   ]
  },
  {
   "cell_type": "code",
   "execution_count": 8,
   "id": "393a1815-6a6b-4121-9da9-8cf811a4c634",
   "metadata": {},
   "outputs": [],
   "source": [
    "X_train, X_test, y_train, y_test = train_test_split(X, y, test_size = 0.3, stratify=dataset.stars, random_state=my_seed)"
   ]
  },
  {
   "cell_type": "code",
   "execution_count": 9,
   "id": "0c08a782-dcc8-467f-b80e-4d23acb656ad",
   "metadata": {},
   "outputs": [
    {
     "name": "stdout",
     "output_type": "stream",
     "text": [
      "0.5271269841269841\n"
     ]
    },
    {
     "data": {
      "image/png": "[encoded data removed]",
      "text/plain": [
       "<Figure size 360x360 with 2 Axes>"
      ]
     },
     "metadata": {},
     "output_type": "display_data"
    }
   ],
   "source": [
    "#Ajustamos y evaluamos el modelo benchmark\n",
    "lr = LogisticRegression(C= 1, max_iter= 1000, multi_class= 'multinomial', penalty= 'l2', random_state=42)\n",
    "lr.fit(X_train, y_train)\n",
    "y_pred = lr.predict(X_test)\n",
    "\n",
    "print(accuracy_score(y_test, y_pred))\n",
    "confusion(y_test,y_pred)"
   ]
  },
  {
   "cell_type": "markdown",
   "id": "468523af-b9c7-4339-a010-22e7ed439634",
   "metadata": {},
   "source": [
    "Obtenemos una efectividad en la predicción de un 0.527, presenciando mejor oportunidad de clasificación para las estrellas 1 y 5 que puntúan los comentarios más negativos o positivos sobre los productos. Además, las críticas correspondientes a las estrellas 2,3,4 presentan mayor dificultad de predicción. Ésto se debe a la subjetividad con la que un usuario puede generar un comentario y adicionalmente, asignarle una estrella.  "
   ]
  },
  {
   "cell_type": "markdown",
   "id": "8ae22251-c802-42d6-acd3-09a7036b1436",
   "metadata": {},
   "source": [
    "# Redes Neuronales\n",
    "\n",
    "En lo que sigue, implementaremos modelos de aprendizaje profundo con la intención de encontrar mejores resultados para la predicción de estrellas. Antes de esto, se definirán algunos conceptos importantes:\n",
    "\n",
    "**Red Neuronal Artificial**: es un modelo de aprendizaje automático profundo con características similares al comportamiento de una red neuronal humana. Estas redes contienen nodos, como las neuronas en nuestro cerebro, que están interconectados entre sí siguiendo una estructura ordenada. Presentan una estructura en capas, dónde cada capa tiene funciones a desarrollar.\n",
    "\n",
    "**Capa de entrada**: está formada por nuestros datos de entrada, las características con las cuales la red será capaz de aprender.\n",
    "\n",
    "**Capas ocultas**: pueden existir varias capas ocultas. Acá es donde la red realiza diferentes cálculos y ajustes para arrojar los mejores resultados.\n",
    "\n",
    "**Capa de salida**: presenta los resultados obtenidos luego del entrenamiento.\n",
    "\n",
    "El número de capas de la red neuronal es un parámetro a definir. Al igual que número de neuronas que contiene cada capa.\n",
    "\n",
    "**Función de activación**: en las capas ocultas se realizan una serie de cálculos que involucran pesos y sesgos generados, en principio, de forma aleatoria y luego van siendo ajustados durante el entrenamiento. La función de activación devuelve una salida que es generada por la neurona dada una entrada o un conjunto de entradas. Existen diversos tipos de función de activación y, dependiendo de sus características conviene o no usarlas.\n",
    "\n",
    "En este desarrollo, utilizaremos 3 tipos de función de activación:\n",
    "\n",
    "* **Función RELU**: permite el aprendizaje rápido en las redes neuronales. Si se le pasa un valor negativo asigna un cero, y si no, queda igual si el valor es positivo.\n",
    "* **Función Softmax**: se usa para clasificar datos con múltiples clases. Asigna probabilidades de pertenencia de cada clase. Ésta función la usaremos para la clasificación de 1 a 5 estrellas.\n",
    "* **Función Sigmoide**: se usa para clasificar datos con etiquetas binarias. La usaremos para el caso de comentarios negativos y positivos. \n",
    "\n",
    "**Optimizador**: es el encargado de generar pesos que presenten cada vez errores más pequeños. Usaremos en nuestro caso, el descenso por gradiente para disminuir la brecha de error entre los resultados calculados y los deseados.\n",
    "\n",
    "**Función de pérdida**: nos permite calcular diferencia de error entre los resultados calculados y los deseados.\n",
    "\n",
    "**Métrica**: nos indicará qué tan buenos son nuestros resultados."
   ]
  },
  {
   "cell_type": "markdown",
   "id": "8d79e11b-f3da-4630-b107-c4e9ba6fed25",
   "metadata": {},
   "source": [
    "## Parámetros del modelo\n",
    "\n",
    "Configuraremos el modelo con los siguientes parámetros:\n",
    "\n",
    "`modelo`: Sequential(), nos permite crear un modelo con una serie de capas de manera secuencial.\n",
    "\n",
    "`número de capas`: Se trabajará con 6 capas, una de entrada, cuatro ocultas y una de salida. Se consideró crear la red con 6 capas, luego de varias iteraciones se encontraron mejores resultados. \n",
    "\n",
    "`input_dim`: la dimensión de las características de entrada es igual a la cantidad de atributos generados por el vectorizador.\n",
    "\n",
    "`units`: la cantidad de neuronas por capas son 2000, 1000, 500, 100, 50 y 6, para el caso de múltiples clases. Para el caso binario cambiaremos la última capa a 2 salidas.\n",
    "\n",
    "`activation`: 'relu' para las primeras 5 capas y 'softmax' para la útlima.\n",
    "\n",
    "`kernel_regularizer`: usamos un regularizador que permita penalizar los parámetros de la capa durante la optimización y con ésto obtener mejores resultados. Se escoge la regularización de Ridge L2, con un alpha igual 0.001.\n",
    "\n",
    "`loss`: 'sparse_categorical_crossentropy', se escoge ésta función de pérdida porque es la sugerida para múltiples clases. [ref](https://www.tensorflow.org/api_docs/python/tf/keras/losses/SparseCategoricalCrossentropy).\n",
    "\n",
    "`optimizer`: 'sgd', se escoge descenso por gradiente ya que arrojó mejor performance que el optimizador 'adam'. \n",
    "\n",
    "`metrics`: 'accuracy', ya que el las etiquetas están balanceadas. \n",
    "\n",
    "Para el ajuste del modelo:\n",
    "\n",
    "`epochs`: 50, se escoge 50 épocas con la intención de observar el desempeño del conjunto de entrenamiento y testeo. De estar sobreajustado o no, se considerará modificar este parámetro. Representa la cantidad de iteraciones a realizar por el algoritmo. \n",
    "\n",
    "`batch_size`: El tamaño del lote lo escogemos igual a 100. Con esto alimentamos a la red con muestras más pequeñas que el conjunto de muestra original. \n"
   ]
  },
  {
   "cell_type": "markdown",
   "id": "02caa62a-403c-4e9c-be25-ef6a352bed5f",
   "metadata": {},
   "source": [
    "### Definimos el modelo"
   ]
  },
  {
   "cell_type": "markdown",
   "id": "1cb0154b-2b61-44a0-98e1-8db8a346f600",
   "metadata": {},
   "source": [
    "Primero, vamos a considerar incrementar el número de características generadas por el vectorizador TF-IDF. Ésto se decide después de realizar varias iteraciones con diferentes valores máximos de features. Entonces, lo incrementaremos a 2000 y generaremos de nuevo los conjustos de train y test."
   ]
  },
  {
   "cell_type": "code",
   "execution_count": 7,
   "id": "449a1574-3cd0-4edb-9b71-1ad30a5058ab",
   "metadata": {},
   "outputs": [
    {
     "name": "stdout",
     "output_type": "stream",
     "text": [
      "(210000, 2000)\n",
      "(210000,)\n"
     ]
    }
   ],
   "source": [
    "vectorizer = TfidfVectorizer(max_features= 2000, ngram_range = (1,2))\n",
    "X = vectorizer.fit_transform(dataset['reviews_lemma']).toarray()\n",
    "y = dataset.stars\n",
    "print(X.shape)\n",
    "print(y.shape)"
   ]
  },
  {
   "cell_type": "code",
   "execution_count": 8,
   "id": "615b7988-e896-4bbd-a9de-d350ef58765d",
   "metadata": {},
   "outputs": [],
   "source": [
    "X_train, X_test, y_train, y_test = train_test_split(X, y, test_size = 0.3, stratify=dataset.stars, random_state=my_seed)"
   ]
  },
  {
   "cell_type": "markdown",
   "id": "afdd9ad2-7514-4647-bd5f-2860a8e9efdb",
   "metadata": {},
   "source": [
    "Vamos a configurar la red a partir de los parámetros elejidos anteriormente: "
   ]
  },
  {
   "cell_type": "code",
   "execution_count": 12,
   "id": "f53fe3f4-9411-4107-ade8-fb96373645e6",
   "metadata": {},
   "outputs": [],
   "source": [
    "max_features = 2000  # Número máximo de características generadas\n",
    "\n",
    "model = Sequential()\n",
    "model.add(layers.Dense(units=2000, input_dim=max_features, activation='relu'))\n",
    "model.add(layers.Dense(units=1000, input_dim=max_features, activation='relu',kernel_regularizer=l2(0.001)))\n",
    "model.add(layers.Dense(units=500, input_dim=max_features, activation='relu',kernel_regularizer=l2(0.001)))\n",
    "model.add(layers.Dense(units=100, input_dim=max_features, activation='relu',kernel_regularizer=l2(0.001)))\n",
    "model.add(layers.Dense(units=50, input_dim=max_features, activation='relu',kernel_regularizer=l2(0.001)))\n",
    "model.add(layers.Dense(6, activation='softmax'))"
   ]
  },
  {
   "cell_type": "markdown",
   "id": "ad09d9d4-1e38-48f9-8bcf-9edaa021ffc7",
   "metadata": {},
   "source": [
    "Utilizamos el método `compile()` para configurar el modelo para el entrenamiento y observamos el resúmen con las características de la red neuronal definida. "
   ]
  },
  {
   "cell_type": "code",
   "execution_count": 13,
   "id": "63d389c8-59f5-44b0-872e-b6f33bd3abfc",
   "metadata": {},
   "outputs": [
    {
     "name": "stdout",
     "output_type": "stream",
     "text": [
      "Model: \"sequential\"\n",
      "_________________________________________________________________\n",
      "Layer (type)                 Output Shape              Param #   \n",
      "=================================================================\n",
      "dense (Dense)                (None, 2000)              4002000   \n",
      "_________________________________________________________________\n",
      "dense_1 (Dense)              (None, 1000)              2001000   \n",
      "_________________________________________________________________\n",
      "dense_2 (Dense)              (None, 500)               500500    \n",
      "_________________________________________________________________\n",
      "dense_3 (Dense)              (None, 100)               50100     \n",
      "_________________________________________________________________\n",
      "dense_4 (Dense)              (None, 50)                5050      \n",
      "_________________________________________________________________\n",
      "dense_5 (Dense)              (None, 6)                 306       \n",
      "=================================================================\n",
      "Total params: 6,558,956\n",
      "Trainable params: 6,558,956\n",
      "Non-trainable params: 0\n",
      "_________________________________________________________________\n"
     ]
    }
   ],
   "source": [
    "model.compile(loss='sparse_categorical_crossentropy', \n",
    "              optimizer='sgd', \n",
    "              metrics=['accuracy'])\n",
    "model.summary()"
   ]
  },
  {
   "cell_type": "markdown",
   "id": "bd9ff5bb-30ba-42f8-a50e-46aa3681fc02",
   "metadata": {},
   "source": [
    "Entrenamos el modelo con el método `fit()`. Indicando el número de épocas, tamaño del lote y conjuntos de entrenamiento y testeo."
   ]
  },
  {
   "cell_type": "code",
   "execution_count": 14,
   "id": "c8e1c2ee-6578-4d59-ba22-c9842b98ea41",
   "metadata": {},
   "outputs": [],
   "source": [
    "history = model.fit(X_train, y_train,\n",
    "                    epochs=50,\n",
    "                    verbose=False,\n",
    "                    validation_data=(X_test, y_test),\n",
    "                    batch_size=100).history"
   ]
  },
  {
   "cell_type": "markdown",
   "id": "31dda6a1-9ecf-4057-a76e-5be89043b563",
   "metadata": {},
   "source": [
    "Calculamos el desempeño del modelo. Es importante tener en cuenta que, el mejor desempeño lo obtendremos cuando la pérdida tienda a cero y el accuracy tienda a 1.  "
   ]
  },
  {
   "cell_type": "code",
   "execution_count": 15,
   "id": "d772e960-a842-4756-8be0-6a0bbde171bc",
   "metadata": {},
   "outputs": [
    {
     "name": "stdout",
     "output_type": "stream",
     "text": [
      "Training Loss: 0.9817\n",
      "Training Accuracy: 0.6648\n",
      "Testing Loss: 1.2474\n",
      "Testing Accuracy:  0.5319\n"
     ]
    }
   ],
   "source": [
    "loss, accuracy = model.evaluate(X_train, y_train, verbose=False)\n",
    "print(\"Training Loss: {:.4f}\".format(loss))\n",
    "print(\"Training Accuracy: {:.4f}\".format(accuracy))\n",
    "\n",
    "loss, accuracy = model.evaluate(X_test, y_test, verbose=False)\n",
    "print(\"Testing Loss: {:.4f}\".format(loss))\n",
    "print(\"Testing Accuracy:  {:.4f}\".format(accuracy))"
   ]
  },
  {
   "cell_type": "markdown",
   "id": "9c1aa90e-dbb7-4985-9eef-333e65f5d57f",
   "metadata": {},
   "source": [
    "Obtenemos un accuracy de 0.5319, siendo éste mayor que el obtenido en nuestro modelo benchmark; y una pérdida de 1.2474. Veamos entonces cómo varía la pérdida y la precisión del modelo según el número de épocas. Para ésto utilizaremos el módulo `plot_history`, que nos mostrará el desempeño del modelo para los conjuntos de entrenamiento y testeo. "
   ]
  },
  {
   "cell_type": "code",
   "execution_count": 16,
   "id": "956ca5bc-f53e-4b0c-9a4b-1340a3f9cc0a",
   "metadata": {},
   "outputs": [
    {
     "data": {
      "text/plain": [
       "(<Figure size 720x360 with 2 Axes>,\n",
       " array([<AxesSubplot:title={'center':'Loss'}, xlabel='Epochs', ylabel='Loss'>,\n",
       "        <AxesSubplot:title={'center':'Accuracy'}, xlabel='Epochs', ylabel='Accuracy'>],\n",
       "       dtype=object))"
      ]
     },
     "execution_count": 16,
     "metadata": {},
     "output_type": "execute_result"
    },
    {
     "data": {
      "image/png": "[encoded data removed]",
      "text/plain": [
       "<Figure size 720x360 with 2 Axes>"
      ]
     },
     "metadata": {},
     "output_type": "display_data"
    }
   ],
   "source": [
    "plot_history(history)"
   ]
  },
  {
   "cell_type": "markdown",
   "id": "d118b9bf-7801-4a14-876a-5ea3b70df9a2",
   "metadata": {},
   "source": [
    "Se observa que a partir de la época 25 se empieza a notar una brecha más amplia entre el desempeño de los conjuntos de entrenamiento y testeo, lo cual indica que el modelo empieza a sobreajustarse. Escogemos entonces, entrenar nuevamente el modelo pero con 28 épocas. "
   ]
  },
  {
   "cell_type": "code",
   "execution_count": 13,
   "id": "72264573-4fc3-401d-96f9-1e7b8a9a0a04",
   "metadata": {},
   "outputs": [],
   "source": [
    "clear_session()"
   ]
  },
  {
   "cell_type": "code",
   "execution_count": 9,
   "id": "32715f48-a075-49a7-885e-b7c2727ce942",
   "metadata": {},
   "outputs": [
    {
     "name": "stdout",
     "output_type": "stream",
     "text": [
      "Training Loss: 1.4599\n",
      "Training Accuracy: 0.5662\n",
      "Testing Loss: 1.5206\n",
      "Testing Accuracy:  0.5348\n"
     ]
    }
   ],
   "source": [
    "max_features = 2000  \n",
    "\n",
    "model1 = Sequential()\n",
    "model1.add(layers.Dense(2000, input_dim=max_features, activation='relu'))\n",
    "model1.add(layers.Dense(1000, input_dim=max_features, activation='relu', kernel_regularizer=l2(0.001)))\n",
    "model1.add(layers.Dense(500, input_dim=max_features, activation='relu', kernel_regularizer=l2(0.001)))\n",
    "model1.add(layers.Dense(100, input_dim=max_features, activation='relu', kernel_regularizer=l2(0.001)))\n",
    "model1.add(layers.Dense(50, input_dim=max_features, activation='relu', kernel_regularizer=l2(0.001)))\n",
    "model1.add(layers.Dense(6, activation='softmax'))\n",
    "\n",
    "model1.compile(loss='sparse_categorical_crossentropy', \n",
    "              optimizer='sgd', \n",
    "              metrics=['accuracy'])\n",
    "\n",
    "history = model1.fit(X_train, y_train,\n",
    "                    epochs=28,\n",
    "                    verbose=False,\n",
    "                    validation_data=(X_test, y_test),\n",
    "                    batch_size=100).history\n",
    "\n",
    "loss, accuracy = model1.evaluate(X_train, y_train, verbose=False)\n",
    "print(\"Training Loss: {:.4f}\".format(loss))\n",
    "print(\"Training Accuracy: {:.4f}\".format(accuracy))\n",
    "\n",
    "loss, accuracy = model1.evaluate(X_test, y_test, verbose=False)\n",
    "print(\"Testing Loss: {:.4f}\".format(loss))\n",
    "print(\"Testing Accuracy:  {:.4f}\".format(accuracy))"
   ]
  },
  {
   "cell_type": "markdown",
   "id": "822383b2-8714-473e-94f7-ca554d632cc8",
   "metadata": {},
   "source": [
    "Se obtiene un mejor desempeño general del modelo en comparación al modelo con 50 épocas y al modelo benchmark planteado, sin embargo, la pérdida obtenida es un poco más alta."
   ]
  },
  {
   "cell_type": "code",
   "execution_count": 10,
   "id": "fa3a4acb-3770-4012-87c0-5d74d7907b61",
   "metadata": {},
   "outputs": [
    {
     "data": {
      "text/plain": [
       "(<Figure size 720x360 with 2 Axes>,\n",
       " array([<AxesSubplot:title={'center':'Loss'}, xlabel='Epochs', ylabel='Loss'>,\n",
       "        <AxesSubplot:title={'center':'Accuracy'}, xlabel='Epochs', ylabel='Accuracy'>],\n",
       "       dtype=object))"
      ]
     },
     "execution_count": 10,
     "metadata": {},
     "output_type": "execute_result"
    },
    {
     "data": {
      "image/png": "[encoded data removed]",
      "text/plain": [
       "<Figure size 720x360 with 2 Axes>"
      ]
     },
     "metadata": {},
     "output_type": "display_data"
    }
   ],
   "source": [
    "plot_history(history)"
   ]
  },
  {
   "cell_type": "markdown",
   "id": "dd0c57e8-e49e-452f-b389-61c5eda78e80",
   "metadata": {},
   "source": [
    "Nos encontramos con dos gráficos que presentan comportamiento esperado. La pérdida disminuye al incrementar el número de iteraciones, mientras que el accuracy aumenta. \n",
    "\n",
    "Ahora, vamos a calcular las predicciones haciendo uso del método `predict_classes()`."
   ]
  },
  {
   "cell_type": "code",
   "execution_count": 11,
   "id": "e3816060-18fd-4cb3-89eb-11c7a9234767",
   "metadata": {},
   "outputs": [
    {
     "name": "stdout",
     "output_type": "stream",
     "text": [
      "WARNING:tensorflow:From <ipython-input-11-f1b9e935f8b4>:1: Sequential.predict_classes (from tensorflow.python.keras.engine.sequential) is deprecated and will be removed after 2021-01-01.\n",
      "Instructions for updating:\n",
      "Please use instead:* `np.argmax(model.predict(x), axis=-1)`,   if your model does multi-class classification   (e.g. if it uses a `softmax` last-layer activation).* `(model.predict(x) > 0.5).astype(\"int32\")`,   if your model does binary classification   (e.g. if it uses a `sigmoid` last-layer activation).\n"
     ]
    },
    {
     "data": {
      "text/plain": [
       "array([2, 2, 3, ..., 5, 4, 5], dtype=int64)"
      ]
     },
     "execution_count": 11,
     "metadata": {},
     "output_type": "execute_result"
    }
   ],
   "source": [
    "y_pred = model1.predict_classes(X_test)\n",
    "y_pred"
   ]
  },
  {
   "cell_type": "markdown",
   "id": "bf3c652c-64a7-49ea-bd12-46c6e88c952e",
   "metadata": {},
   "source": [
    "Observamos que se genera un arreglo con las cantidad de estrellas predichas para los comentarios del conjunto de testeo.\n",
    "\n",
    "Por último observemos cómo es la clasificación por clases mediante la matríz de confusión:"
   ]
  },
  {
   "cell_type": "code",
   "execution_count": 12,
   "id": "30a4ef9c-746c-4ae6-8852-7ba55ed431b4",
   "metadata": {},
   "outputs": [
    {
     "data": {
      "image/png": "[encoded data removed]",
      "text/plain": [
       "<Figure size 360x360 with 2 Axes>"
      ]
     },
     "metadata": {},
     "output_type": "display_data"
    }
   ],
   "source": [
    "confusion(y_test,y_pred)"
   ]
  },
  {
   "cell_type": "markdown",
   "id": "493b4f04-df67-4430-8852-c640841996f5",
   "metadata": {},
   "source": [
    "Tenemos una clasificación con un comportamiento similar al obtenido en el modelo benchmark, donde se clasifican mejor las clases extremo, la 1 y 5. Sin embargo, es importante destacar que éste modelo predice mucho mejor las clases intermedias, 2,3 y 4, que presentaban mayores problemas de clasificación en los modelos antes desarrollados. "
   ]
  },
  {
   "cell_type": "code",
   "execution_count": 22,
   "id": "90e9a9fb-9c1c-4d39-9ae0-23853426790a",
   "metadata": {},
   "outputs": [
    {
     "data": {
      "text/plain": [
       "7788"
      ]
     },
     "execution_count": 22,
     "metadata": {},
     "output_type": "execute_result"
    }
   ],
   "source": [
    "clear_session()\n",
    "gc.collect()"
   ]
  },
  {
   "cell_type": "markdown",
   "id": "d09dc679-3fa3-4d99-826e-cfc47e9b92b2",
   "metadata": {},
   "source": [
    "Ahora, tal como se planteó al inicio, entrenaremos un nuevo modelo para el caso binario con etiquetas positivas y negativas. "
   ]
  },
  {
   "cell_type": "markdown",
   "id": "79348ee6-9df7-4468-a079-f659e9ac03da",
   "metadata": {},
   "source": [
    "# Modelo Binario"
   ]
  },
  {
   "cell_type": "markdown",
   "id": "907f82d4-b57c-48ad-b01c-05717110811b",
   "metadata": {},
   "source": [
    "Para entrenar un modelo binario con dos etiquetas, positivas y negativas, vamos a hacer uso del dataset original con las variables de interés."
   ]
  },
  {
   "cell_type": "code",
   "execution_count": 23,
   "id": "4e887c88-56cb-40aa-a745-c93e930fecf8",
   "metadata": {},
   "outputs": [
    {
     "data": {
      "text/html": [
       "<div>\n",
       "<style scoped>\n",
       "    .dataframe tbody tr th:only-of-type {\n",
       "        vertical-align: middle;\n",
       "    }\n",
       "\n",
       "    .dataframe tbody tr th {\n",
       "        vertical-align: top;\n",
       "    }\n",
       "\n",
       "    .dataframe thead th {\n",
       "        text-align: right;\n",
       "    }\n",
       "</style>\n",
       "<table border=\"1\" class=\"dataframe\">\n",
       "  <thead>\n",
       "    <tr style=\"text-align: right;\">\n",
       "      <th></th>\n",
       "      <th>stars</th>\n",
       "      <th>reviews_lemma</th>\n",
       "    </tr>\n",
       "  </thead>\n",
       "  <tbody>\n",
       "    <tr>\n",
       "      <th>0</th>\n",
       "      <td>1</td>\n",
       "      <td>nada buen pantalla menos recibido respuesta fa...</td>\n",
       "    </tr>\n",
       "    <tr>\n",
       "      <th>1</th>\n",
       "      <td>1</td>\n",
       "      <td>horrible comprar saber ingle informatico despu...</td>\n",
       "    </tr>\n",
       "    <tr>\n",
       "      <th>2</th>\n",
       "      <td>1</td>\n",
       "      <td>obligar comprar unidad llegar solo forma recla...</td>\n",
       "    </tr>\n",
       "    <tr>\n",
       "      <th>3</th>\n",
       "      <td>1</td>\n",
       "      <td>entrar descalificar vendedor solo poder decir ...</td>\n",
       "    </tr>\n",
       "    <tr>\n",
       "      <th>4</th>\n",
       "      <td>1</td>\n",
       "      <td>llegar tarde talla equivocado devolver</td>\n",
       "    </tr>\n",
       "  </tbody>\n",
       "</table>\n",
       "</div>"
      ],
      "text/plain": [
       "   stars                                      reviews_lemma\n",
       "0      1  nada buen pantalla menos recibido respuesta fa...\n",
       "1      1  horrible comprar saber ingle informatico despu...\n",
       "2      1  obligar comprar unidad llegar solo forma recla...\n",
       "3      1  entrar descalificar vendedor solo poder decir ...\n",
       "4      1             llegar tarde talla equivocado devolver"
      ]
     },
     "execution_count": 23,
     "metadata": {},
     "output_type": "execute_result"
    }
   ],
   "source": [
    "dataset.head()"
   ]
  },
  {
   "cell_type": "markdown",
   "id": "7f111fac-81f8-4cbe-898b-af91568f8907",
   "metadata": {},
   "source": [
    "Creamos un nuevo dataset que contenga las dos nuevas etiquetas generadas. Se decide tomar como etiqueta negativa aquellos comentarios que tengan asignados 1 y 2 estrellas, y como etiqueta positivas los que tengan 3, 4 y 5 estrellas. Además asignaremos un valor numérico a cada etiqueta, 0 para las negativas y 1 para las positivas."
   ]
  },
  {
   "cell_type": "code",
   "execution_count": 24,
   "id": "3a0a6798-1f77-4b2c-a840-d508ebffcd00",
   "metadata": {},
   "outputs": [
    {
     "data": {
      "text/html": [
       "<div>\n",
       "<style scoped>\n",
       "    .dataframe tbody tr th:only-of-type {\n",
       "        vertical-align: middle;\n",
       "    }\n",
       "\n",
       "    .dataframe tbody tr th {\n",
       "        vertical-align: top;\n",
       "    }\n",
       "\n",
       "    .dataframe thead th {\n",
       "        text-align: right;\n",
       "    }\n",
       "</style>\n",
       "<table border=\"1\" class=\"dataframe\">\n",
       "  <thead>\n",
       "    <tr style=\"text-align: right;\">\n",
       "      <th></th>\n",
       "      <th>stars</th>\n",
       "      <th>reviews_lemma</th>\n",
       "    </tr>\n",
       "  </thead>\n",
       "  <tbody>\n",
       "    <tr>\n",
       "      <th>0</th>\n",
       "      <td>1</td>\n",
       "      <td>nada buen pantalla menos recibido respuesta fa...</td>\n",
       "    </tr>\n",
       "    <tr>\n",
       "      <th>27996</th>\n",
       "      <td>1</td>\n",
       "      <td>bateria fallar duro nada carga poder ser desga...</td>\n",
       "    </tr>\n",
       "    <tr>\n",
       "      <th>27997</th>\n",
       "      <td>1</td>\n",
       "      <td>borrado dibujo vaso estafa compra comprear</td>\n",
       "    </tr>\n",
       "    <tr>\n",
       "      <th>27998</th>\n",
       "      <td>1</td>\n",
       "      <td>gran cosa apariencia mucho bien luego tinto ju...</td>\n",
       "    </tr>\n",
       "    <tr>\n",
       "      <th>27999</th>\n",
       "      <td>1</td>\n",
       "      <td>comprar funda samsung funda bien movil borde r...</td>\n",
       "    </tr>\n",
       "  </tbody>\n",
       "</table>\n",
       "</div>"
      ],
      "text/plain": [
       "       stars                                      reviews_lemma\n",
       "0          1  nada buen pantalla menos recibido respuesta fa...\n",
       "27996      1  bateria fallar duro nada carga poder ser desga...\n",
       "27997      1         borrado dibujo vaso estafa compra comprear\n",
       "27998      1  gran cosa apariencia mucho bien luego tinto ju...\n",
       "27999      1  comprar funda samsung funda bien movil borde r..."
      ]
     },
     "execution_count": 24,
     "metadata": {},
     "output_type": "execute_result"
    }
   ],
   "source": [
    "ds_binario = dataset.sort_values('stars')\n",
    "ds_binario.head() "
   ]
  },
  {
   "cell_type": "code",
   "execution_count": 25,
   "id": "8c32d685-4881-46dc-95cf-9b1d76041dc2",
   "metadata": {},
   "outputs": [
    {
     "data": {
      "text/html": [
       "<div>\n",
       "<style scoped>\n",
       "    .dataframe tbody tr th:only-of-type {\n",
       "        vertical-align: middle;\n",
       "    }\n",
       "\n",
       "    .dataframe tbody tr th {\n",
       "        vertical-align: top;\n",
       "    }\n",
       "\n",
       "    .dataframe thead th {\n",
       "        text-align: right;\n",
       "    }\n",
       "</style>\n",
       "<table border=\"1\" class=\"dataframe\">\n",
       "  <thead>\n",
       "    <tr style=\"text-align: right;\">\n",
       "      <th></th>\n",
       "      <th>stars</th>\n",
       "      <th>reviews_lemma</th>\n",
       "      <th>etiqueta</th>\n",
       "    </tr>\n",
       "  </thead>\n",
       "  <tbody>\n",
       "    <tr>\n",
       "      <th>0</th>\n",
       "      <td>1</td>\n",
       "      <td>nada buen pantalla menos recibido respuesta fa...</td>\n",
       "      <td>0</td>\n",
       "    </tr>\n",
       "    <tr>\n",
       "      <th>1</th>\n",
       "      <td>1</td>\n",
       "      <td>bateria fallar duro nada carga poder ser desga...</td>\n",
       "      <td>0</td>\n",
       "    </tr>\n",
       "    <tr>\n",
       "      <th>2</th>\n",
       "      <td>1</td>\n",
       "      <td>borrado dibujo vaso estafa compra comprear</td>\n",
       "      <td>0</td>\n",
       "    </tr>\n",
       "    <tr>\n",
       "      <th>3</th>\n",
       "      <td>1</td>\n",
       "      <td>gran cosa apariencia mucho bien luego tinto ju...</td>\n",
       "      <td>0</td>\n",
       "    </tr>\n",
       "    <tr>\n",
       "      <th>4</th>\n",
       "      <td>1</td>\n",
       "      <td>comprar funda samsung funda bien movil borde r...</td>\n",
       "      <td>0</td>\n",
       "    </tr>\n",
       "  </tbody>\n",
       "</table>\n",
       "</div>"
      ],
      "text/plain": [
       "   stars                                      reviews_lemma  etiqueta\n",
       "0      1  nada buen pantalla menos recibido respuesta fa...         0\n",
       "1      1  bateria fallar duro nada carga poder ser desga...         0\n",
       "2      1         borrado dibujo vaso estafa compra comprear         0\n",
       "3      1  gran cosa apariencia mucho bien luego tinto ju...         0\n",
       "4      1  comprar funda samsung funda bien movil borde r...         0"
      ]
     },
     "execution_count": 25,
     "metadata": {},
     "output_type": "execute_result"
    }
   ],
   "source": [
    "def set_values(row, value):\n",
    "    return value[row]\n",
    "   \n",
    "map_dictionary ={1 : 0, 2 : 0, 3 : 1, 4 :1, 5:1} \n",
    "   \n",
    "ds_binario['etiqueta'] = ds_binario['stars'].apply(set_values, args =(map_dictionary, )) \n",
    "ds_binario.reset_index(drop=True, inplace=True)\n",
    "ds_binario.head()"
   ]
  },
  {
   "cell_type": "markdown",
   "id": "30ada607-d705-48f5-8ea4-5d891d8226d8",
   "metadata": {},
   "source": [
    "Veamos cómo es la distribución de las nuevas etiquetas generadas:"
   ]
  },
  {
   "cell_type": "code",
   "execution_count": 26,
   "id": "d5267833-c945-4a81-b07b-585c8054589d",
   "metadata": {},
   "outputs": [
    {
     "data": {
      "image/png": "[encoded data removed]",
      "text/plain": [
       "<Figure size 432x288 with 1 Axes>"
      ]
     },
     "metadata": {},
     "output_type": "display_data"
    }
   ],
   "source": [
    "sns.countplot(data=ds_binario, x=ds_binario.etiqueta)\n",
    "plt.title('Distribución de la variable objetivo', fontsize=18)\n",
    "plt.xlabel('Etiqueta', fontsize=14)\n",
    "plt.ylabel('Cantidad de Reviews', fontsize=14)\n",
    "plt.show()"
   ]
  },
  {
   "cell_type": "markdown",
   "id": "8d9b4610-952f-4f35-a1b9-9472f0b5b012",
   "metadata": {},
   "source": [
    "Se observa que existe un desbalance en las clases a predecir. La clase negativa representa un 40% del total de los datos, mientras que la clase positica representa el 60%. Se conoce que el problema con el desequilibrio de clases genera cierto sesgo en los resultados obtenidos. Sin embargo, se ha encontrado una referencia donde se manifiestan diferentes tipos de desbalance:\n",
    "\n",
    "\"**Slight Imbalance**: An imbalanced classification problem where the distribution of examples is uneven by a small amount in the training dataset (e.g. 4:6).\n",
    "\n",
    "**Severe Imbalance**: An imbalanced classification problem where the distribution of examples is uneven by a large amount in the training dataset (e.g. 1:100 or more)\" [Ref](https://machinelearningmastery.com/what-is-imbalanced-classification/)\n",
    "\n",
    "Por lo que en nuestro caso, estaríamos en presencia de un desbalance ligero.\n",
    "\n",
    "Entonces, basandonos en lo expuesto y la referencia citada, continuamos el proyecto con las clases tal como fueron generadas. "
   ]
  },
  {
   "cell_type": "markdown",
   "id": "a67a3e60-35e6-4c4d-8970-4347137d1987",
   "metadata": {},
   "source": [
    "Ahora bien, vamos a entrenar el modelo. Para esto, consideraremos definir una red neuronal con las mismas características a la usada en el caso de múltiples clases, destacando las siguientes diferencias:\n",
    "\n",
    "**Función de activación**: usaremos la `función sigmoide`, que por referencias presenta mejores resultados para clasificaciones binarias.\n",
    "\n",
    "**Función de pérdida**: configuraremos la pérdida con la función `binary_crossentropy`, también ideal para el caso binario. "
   ]
  },
  {
   "cell_type": "markdown",
   "id": "d1f67c8a-a2f1-4a2c-9561-b40e8d8cde3e",
   "metadata": {},
   "source": [
    "Empecemos transformando los datos a entidades numéricas y luego, generando los conjuntos de entrenamiesto y testeo:"
   ]
  },
  {
   "cell_type": "code",
   "execution_count": 27,
   "id": "f5be99b6-fb18-45ed-abac-725cd48c32fe",
   "metadata": {},
   "outputs": [
    {
     "name": "stdout",
     "output_type": "stream",
     "text": [
      "(210000, 2000)\n",
      "(210000,)\n"
     ]
    }
   ],
   "source": [
    "vectorizer = TfidfVectorizer(max_features= 2000, ngram_range = (1,2))\n",
    "X = vectorizer.fit_transform(ds_binario['reviews_lemma']).toarray()\n",
    "y = ds_binario.etiqueta\n",
    "print(X.shape)\n",
    "print(y.shape)"
   ]
  },
  {
   "cell_type": "code",
   "execution_count": 28,
   "id": "6a4615fd-31e1-48dd-9f79-3fa681e163a2",
   "metadata": {},
   "outputs": [],
   "source": [
    "X_train, X_test, y_train, y_test = train_test_split(X, y, test_size = 0.3, stratify=dataset.stars, random_state=my_seed)"
   ]
  },
  {
   "cell_type": "markdown",
   "id": "45d5c963-c2cb-4803-812b-40de2c36dd1f",
   "metadata": {},
   "source": [
    "Configuremos nuestra red neuronal. Empezaremos el entrenamiento con 50 épocas y un tamaño de lote de 100 muestras. "
   ]
  },
  {
   "cell_type": "code",
   "execution_count": 29,
   "id": "1ba6818a-642e-4e47-a190-2ecce1a537fe",
   "metadata": {},
   "outputs": [
    {
     "name": "stdout",
     "output_type": "stream",
     "text": [
      "Training Loss: 0.2886\n",
      "Training Accuracy: 0.9597\n",
      "Testing Loss: 0.5475\n",
      "Testing Accuracy:  0.8317\n"
     ]
    }
   ],
   "source": [
    "max_features = 2000  \n",
    "\n",
    "model2 = Sequential()\n",
    "model2.add(layers.Dense(2000, input_dim=max_features, activation='relu'))\n",
    "model2.add(layers.Dense(1000, input_dim=max_features, activation='relu', kernel_regularizer=l2(0.001)))\n",
    "model2.add(layers.Dense(500, input_dim=max_features, activation='relu', kernel_regularizer=l2(0.001)))\n",
    "model2.add(layers.Dense(100, input_dim=max_features, activation='relu', kernel_regularizer=l2(0.001)))\n",
    "model2.add(layers.Dense(50, input_dim=max_features, activation='relu', kernel_regularizer=l2(0.001)))\n",
    "model2.add(layers.Dense(1, activation='sigmoid'))\n",
    "\n",
    "model2.compile(loss='binary_crossentropy', \n",
    "              optimizer='sgd', \n",
    "              metrics=['accuracy'])\n",
    "\n",
    "history = model2.fit(X_train, y_train,\n",
    "                    epochs=50,\n",
    "                    verbose=False,\n",
    "                    validation_data=(X_test, y_test),\n",
    "                    batch_size=100).history\n",
    "\n",
    "loss, accuracy = model2.evaluate(X_train, y_train, verbose=False)\n",
    "print(\"Training Loss: {:.4f}\".format(loss))\n",
    "print(\"Training Accuracy: {:.4f}\".format(accuracy))\n",
    "\n",
    "loss, accuracy = model2.evaluate(X_test, y_test, verbose=False)\n",
    "print(\"Testing Loss: {:.4f}\".format(loss))\n",
    "print(\"Testing Accuracy:  {:.4f}\".format(accuracy))"
   ]
  },
  {
   "cell_type": "code",
   "execution_count": 30,
   "id": "11433157-a782-48a5-9ef5-5d28431348af",
   "metadata": {},
   "outputs": [
    {
     "data": {
      "text/plain": [
       "(<Figure size 720x360 with 2 Axes>,\n",
       " array([<AxesSubplot:title={'center':'Loss'}, xlabel='Epochs', ylabel='Loss'>,\n",
       "        <AxesSubplot:title={'center':'Accuracy'}, xlabel='Epochs', ylabel='Accuracy'>],\n",
       "       dtype=object))"
      ]
     },
     "execution_count": 30,
     "metadata": {},
     "output_type": "execute_result"
    },
    {
     "data": {
      "image/png": "[encoded data removed]",
      "text/plain": [
       "<Figure size 720x360 with 2 Axes>"
      ]
     },
     "metadata": {},
     "output_type": "display_data"
    }
   ],
   "source": [
    "plot_history(history)"
   ]
  },
  {
   "cell_type": "code",
   "execution_count": 31,
   "id": "01c769d7-0f24-4f49-960e-2d1cc02b3e57",
   "metadata": {},
   "outputs": [
    {
     "data": {
      "text/plain": [
       "10651"
      ]
     },
     "execution_count": 31,
     "metadata": {},
     "output_type": "execute_result"
    }
   ],
   "source": [
    "clear_session()\n",
    "gc.collect()"
   ]
  },
  {
   "cell_type": "markdown",
   "id": "37fd40eb-f903-425e-a9b1-2051bf6050e1",
   "metadata": {},
   "source": [
    "Nos encontramos con un modelo sobreajustado después de la época 20, con diferencia entre el desempeño del conjunto de entrenamiento y testeo de casi 10 puntos. Por tanto, se decide entrenar nuevamente el modelo ajustanto éste parámetro a 20 épocas. "
   ]
  },
  {
   "cell_type": "code",
   "execution_count": 32,
   "id": "3e5c736f-f307-484d-ae4e-6895ce7beec2",
   "metadata": {},
   "outputs": [
    {
     "name": "stdout",
     "output_type": "stream",
     "text": [
      "Training Loss: 1.0339\n",
      "Training Accuracy: 0.8525\n",
      "Testing Loss: 1.0667\n",
      "Testing Accuracy:  0.8330\n"
     ]
    }
   ],
   "source": [
    "max_features = 2000  \n",
    "\n",
    "model3 = Sequential()\n",
    "model3.add(layers.Dense(2000, input_dim=max_features, activation='relu'))\n",
    "model3.add(layers.Dense(1000, input_dim=max_features, activation='relu', kernel_regularizer=l2(0.001)))\n",
    "model3.add(layers.Dense(500, input_dim=max_features, activation='relu', kernel_regularizer=l2(0.001)))\n",
    "model3.add(layers.Dense(100, input_dim=max_features, activation='relu', kernel_regularizer=l2(0.001)))\n",
    "model3.add(layers.Dense(50, input_dim=max_features, activation='relu', kernel_regularizer=l2(0.001)))\n",
    "model3.add(layers.Dense(1, activation='sigmoid'))\n",
    "\n",
    "model3.compile(loss='binary_crossentropy', \n",
    "              optimizer='sgd', \n",
    "              metrics=['accuracy'])\n",
    "\n",
    "history = model3.fit(X_train, y_train,\n",
    "                    epochs=20,\n",
    "                    verbose=False,\n",
    "                    validation_data=(X_test, y_test),\n",
    "                    batch_size=100).history\n",
    "\n",
    "loss, accuracy = model3.evaluate(X_train, y_train, verbose=False)\n",
    "print(\"Training Loss: {:.4f}\".format(loss))\n",
    "print(\"Training Accuracy: {:.4f}\".format(accuracy))\n",
    "\n",
    "loss, accuracy = model3.evaluate(X_test, y_test, verbose=False)\n",
    "print(\"Testing Loss: {:.4f}\".format(loss))\n",
    "print(\"Testing Accuracy:  {:.4f}\".format(accuracy))"
   ]
  },
  {
   "cell_type": "code",
   "execution_count": 33,
   "id": "0e8501d3-a6e8-40f1-9696-45588b8f9f97",
   "metadata": {},
   "outputs": [
    {
     "data": {
      "text/plain": [
       "(<Figure size 720x360 with 2 Axes>,\n",
       " array([<AxesSubplot:title={'center':'Loss'}, xlabel='Epochs', ylabel='Loss'>,\n",
       "        <AxesSubplot:title={'center':'Accuracy'}, xlabel='Epochs', ylabel='Accuracy'>],\n",
       "       dtype=object))"
      ]
     },
     "execution_count": 33,
     "metadata": {},
     "output_type": "execute_result"
    },
    {
     "data": {
      "image/png": "[encoded data removed]",
      "text/plain": [
       "<Figure size 720x360 with 2 Axes>"
      ]
     },
     "metadata": {},
     "output_type": "display_data"
    }
   ],
   "source": [
    "plot_history(history)"
   ]
  },
  {
   "cell_type": "code",
   "execution_count": 34,
   "id": "43fa8c42-291a-4024-be8c-27ffec650243",
   "metadata": {},
   "outputs": [
    {
     "data": {
      "image/png": "[encoded data removed]",
      "text/plain": [
       "<Figure size 144x144 with 2 Axes>"
      ]
     },
     "metadata": {},
     "output_type": "display_data"
    }
   ],
   "source": [
    "y_pred = model3.predict_classes(X_test)\n",
    "confusion_bin(y_test,y_pred)"
   ]
  },
  {
   "cell_type": "code",
   "execution_count": 35,
   "id": "c6e8b7fa-528b-4abe-a242-5e5509816770",
   "metadata": {},
   "outputs": [
    {
     "data": {
      "text/plain": [
       "10073"
      ]
     },
     "execution_count": 35,
     "metadata": {},
     "output_type": "execute_result"
    }
   ],
   "source": [
    "clear_session()\n",
    "gc.collect()"
   ]
  },
  {
   "cell_type": "markdown",
   "id": "b2a83f03-93f3-441e-89e3-e357abc07645",
   "metadata": {},
   "source": [
    "En el proyecto anterior se alcanzó un desempeño para el caso binario de 0.823, por lo que este modelo con redes neuronales presenta una mejora con un accuracy de 0.8330. Es importante destacar que hemos decido entrenar el modelo con clases desbalanceadas, por lo que los resultados podrían presentar un poco de sesgo y por tanto, no ser significativa la diferencia de entrenar un modelo de regresión logística que si asigne pesos a las clases desbalanceadas, que entrenar un modelo de red neuronal con clases desbalanceadas. "
   ]
  },
  {
   "cell_type": "markdown",
   "id": "b0592c0b-6bd3-4b5b-b90a-5c1176582b3f",
   "metadata": {},
   "source": [
    "Observaciones finales:\n",
    "\n",
    "* Partiendo del objetivo planteado, hemos logrado implementar una nueva técnica para modelar nuestros datos y obtener además, mejores resultados en la clasificación de las clases, tanto para el modelo de múltiples clases como para el modelo binario. \n",
    "\n",
    "* Es posible que, como fue planteado en el proyecto anterior, se obtengan mejores resultados haciendo otro proceso de normalización de los datos y considerando otro tipo vectorización de los mismos. \n",
    "\n",
    "* Existe también la posibilidad de hacer uso de redes neuronales pre-entrenadas como la desarrollada por Google, [BERT](https://towardsdatascience.com/bert-explained-state-of-the-art-language-model-for-nlp-f8b21a9b6270), para el mejoramiento de la clasificación de texto. En el caso de español se ha encontrado un modelo entrenado a partir de BERT llamado [BETO](https://www.ibidemgroup.com/edu/traduccion-automatica-bert-beto/) que podría funcionar bastante bien para este proyecto. \n",
    "\n",
    "### Referencias\n",
    "\n",
    "https://www.deeplearningbook.org/\n",
    "\n",
    "https://www.tensorflow.org/\n",
    "\n",
    "https://velascoluis.medium.com/optimizadores-en-redes-neuronales-profundas-un-enfoque-pr%C3%A1ctico-819b39a3eb5\n",
    "\n",
    "https://medium.com/blocksurvey/building-multi-class-text-classifier-using-tensorflow-keras-2148586e69ad\n",
    "\n",
    "https://realpython.com/python-keras-text-classification/\n",
    "\n",
    "https://towardsdatascience.com/how-to-increase-the-accuracy-of-a-neural-network-9f5d1c6f407d"
   ]
  }
 ],
 "metadata": {
  "kernelspec": {
   "display_name": "Python 3",
   "language": "python",
   "name": "python3"
  },
  "language_info": {
   "codemirror_mode": {
    "name": "ipython",
    "version": 3
   },
   "file_extension": ".py",
   "mimetype": "text/x-python",
   "name": "python",
   "nbconvert_exporter": "python",
   "pygments_lexer": "ipython3",
   "version": "3.8.8"
  }
 },
 "nbformat": 4,
 "nbformat_minor": 5
}
